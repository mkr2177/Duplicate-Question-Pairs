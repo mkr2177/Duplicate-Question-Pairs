{
 "cells": [
  {
   "cell_type": "code",
   "execution_count": 1,
   "id": "e6551c4f-4cd8-4b80-8358-c828de26a1c4",
   "metadata": {},
   "outputs": [],
   "source": [
    "import numpy as np\n",
    "import pandas as pd\n",
    "import seaborn as sns\n",
    "import matplotlib.pyplot as plt"
   ]
  },
  {
   "cell_type": "code",
   "execution_count": 2,
   "id": "a4ac5c2e-c77c-4a2f-a038-d10436f592ce",
   "metadata": {},
   "outputs": [
    {
     "data": {
      "text/plain": [
       "(404290, 6)"
      ]
     },
     "execution_count": 2,
     "metadata": {},
     "output_type": "execute_result"
    }
   ],
   "source": [
    "df = pd.read_csv(\"train.csv\")\n",
    "df.shape"
   ]
  },
  {
   "cell_type": "code",
   "execution_count": 3,
   "id": "85600678-efa3-4fde-959d-65023cf4871e",
   "metadata": {},
   "outputs": [
    {
     "data": {
      "text/html": [
       "<div>\n",
       "<style scoped>\n",
       "    .dataframe tbody tr th:only-of-type {\n",
       "        vertical-align: middle;\n",
       "    }\n",
       "\n",
       "    .dataframe tbody tr th {\n",
       "        vertical-align: top;\n",
       "    }\n",
       "\n",
       "    .dataframe thead th {\n",
       "        text-align: right;\n",
       "    }\n",
       "</style>\n",
       "<table border=\"1\" class=\"dataframe\">\n",
       "  <thead>\n",
       "    <tr style=\"text-align: right;\">\n",
       "      <th></th>\n",
       "      <th>id</th>\n",
       "      <th>qid1</th>\n",
       "      <th>qid2</th>\n",
       "      <th>question1</th>\n",
       "      <th>question2</th>\n",
       "      <th>is_duplicate</th>\n",
       "    </tr>\n",
       "  </thead>\n",
       "  <tbody>\n",
       "    <tr>\n",
       "      <th>52892</th>\n",
       "      <td>52892</td>\n",
       "      <td>93582</td>\n",
       "      <td>93583</td>\n",
       "      <td>Why is it so hard to get an attorney to take m...</td>\n",
       "      <td>How can I litigate if no attorneys will take t...</td>\n",
       "      <td>0</td>\n",
       "    </tr>\n",
       "    <tr>\n",
       "      <th>37724</th>\n",
       "      <td>37724</td>\n",
       "      <td>33197</td>\n",
       "      <td>68609</td>\n",
       "      <td>How long does it take for the human body to re...</td>\n",
       "      <td>How much blood can a human donate in a day?</td>\n",
       "      <td>0</td>\n",
       "    </tr>\n",
       "    <tr>\n",
       "      <th>76063</th>\n",
       "      <td>76063</td>\n",
       "      <td>84412</td>\n",
       "      <td>130077</td>\n",
       "      <td>Why do US school grades go A, B, C, D, and F. ...</td>\n",
       "      <td>Why does the US education system use grades A,...</td>\n",
       "      <td>1</td>\n",
       "    </tr>\n",
       "    <tr>\n",
       "      <th>221519</th>\n",
       "      <td>221519</td>\n",
       "      <td>328878</td>\n",
       "      <td>328879</td>\n",
       "      <td>Is there a website like Zomato in shopping?</td>\n",
       "      <td>I have an idea for a service website like Zoma...</td>\n",
       "      <td>0</td>\n",
       "    </tr>\n",
       "    <tr>\n",
       "      <th>358018</th>\n",
       "      <td>358018</td>\n",
       "      <td>270883</td>\n",
       "      <td>487447</td>\n",
       "      <td>How much does YouTube charge for live streaming?</td>\n",
       "      <td>How much does it cost to live stream a UFC fight?</td>\n",
       "      <td>0</td>\n",
       "    </tr>\n",
       "    <tr>\n",
       "      <th>225516</th>\n",
       "      <td>225516</td>\n",
       "      <td>333865</td>\n",
       "      <td>333866</td>\n",
       "      <td>What is the primary 25-label categorization th...</td>\n",
       "      <td>How can I a sell a product using my own label ...</td>\n",
       "      <td>0</td>\n",
       "    </tr>\n",
       "    <tr>\n",
       "      <th>186781</th>\n",
       "      <td>186781</td>\n",
       "      <td>105454</td>\n",
       "      <td>284821</td>\n",
       "      <td>How does the brain create consciousness?</td>\n",
       "      <td>How does the brain generate consciousness?</td>\n",
       "      <td>1</td>\n",
       "    </tr>\n",
       "    <tr>\n",
       "      <th>297108</th>\n",
       "      <td>297108</td>\n",
       "      <td>419443</td>\n",
       "      <td>419444</td>\n",
       "      <td>Advantages and dis advantages of commerce?</td>\n",
       "      <td>Boy and girl can be a best friend?</td>\n",
       "      <td>0</td>\n",
       "    </tr>\n",
       "    <tr>\n",
       "      <th>19242</th>\n",
       "      <td>19242</td>\n",
       "      <td>36379</td>\n",
       "      <td>36380</td>\n",
       "      <td>Why do Hindus offer water to the Sun?</td>\n",
       "      <td>How are Indian Hindus different from Nepali Hi...</td>\n",
       "      <td>0</td>\n",
       "    </tr>\n",
       "    <tr>\n",
       "      <th>58134</th>\n",
       "      <td>58134</td>\n",
       "      <td>102047</td>\n",
       "      <td>102048</td>\n",
       "      <td>What is the English translation of \"dep qua\"?</td>\n",
       "      <td>What is the English translation of 存在即是合理的?</td>\n",
       "      <td>0</td>\n",
       "    </tr>\n",
       "  </tbody>\n",
       "</table>\n",
       "</div>"
      ],
      "text/plain": [
       "            id    qid1    qid2  \\\n",
       "52892    52892   93582   93583   \n",
       "37724    37724   33197   68609   \n",
       "76063    76063   84412  130077   \n",
       "221519  221519  328878  328879   \n",
       "358018  358018  270883  487447   \n",
       "225516  225516  333865  333866   \n",
       "186781  186781  105454  284821   \n",
       "297108  297108  419443  419444   \n",
       "19242    19242   36379   36380   \n",
       "58134    58134  102047  102048   \n",
       "\n",
       "                                                question1  \\\n",
       "52892   Why is it so hard to get an attorney to take m...   \n",
       "37724   How long does it take for the human body to re...   \n",
       "76063   Why do US school grades go A, B, C, D, and F. ...   \n",
       "221519        Is there a website like Zomato in shopping?   \n",
       "358018   How much does YouTube charge for live streaming?   \n",
       "225516  What is the primary 25-label categorization th...   \n",
       "186781           How does the brain create consciousness?   \n",
       "297108         Advantages and dis advantages of commerce?   \n",
       "19242               Why do Hindus offer water to the Sun?   \n",
       "58134       What is the English translation of \"dep qua\"?   \n",
       "\n",
       "                                                question2  is_duplicate  \n",
       "52892   How can I litigate if no attorneys will take t...             0  \n",
       "37724         How much blood can a human donate in a day?             0  \n",
       "76063   Why does the US education system use grades A,...             1  \n",
       "221519  I have an idea for a service website like Zoma...             0  \n",
       "358018  How much does it cost to live stream a UFC fight?             0  \n",
       "225516  How can I a sell a product using my own label ...             0  \n",
       "186781         How does the brain generate consciousness?             1  \n",
       "297108                 Boy and girl can be a best friend?             0  \n",
       "19242   How are Indian Hindus different from Nepali Hi...             0  \n",
       "58134         What is the English translation of 存在即是合理的?             0  "
      ]
     },
     "execution_count": 3,
     "metadata": {},
     "output_type": "execute_result"
    }
   ],
   "source": [
    "df.sample(10)"
   ]
  },
  {
   "cell_type": "code",
   "execution_count": 4,
   "id": "c0ccba4f-e493-45cf-b2bb-434a9aeaea9a",
   "metadata": {},
   "outputs": [
    {
     "name": "stdout",
     "output_type": "stream",
     "text": [
      "<class 'pandas.core.frame.DataFrame'>\n",
      "RangeIndex: 404290 entries, 0 to 404289\n",
      "Data columns (total 6 columns):\n",
      " #   Column        Non-Null Count   Dtype \n",
      "---  ------        --------------   ----- \n",
      " 0   id            404290 non-null  int64 \n",
      " 1   qid1          404290 non-null  int64 \n",
      " 2   qid2          404290 non-null  int64 \n",
      " 3   question1     404289 non-null  object\n",
      " 4   question2     404288 non-null  object\n",
      " 5   is_duplicate  404290 non-null  int64 \n",
      "dtypes: int64(4), object(2)\n",
      "memory usage: 18.5+ MB\n"
     ]
    }
   ],
   "source": [
    "df.info()"
   ]
  },
  {
   "cell_type": "code",
   "execution_count": 5,
   "id": "41233abb-07ca-4819-a02b-751af4dcb5dd",
   "metadata": {},
   "outputs": [
    {
     "data": {
      "text/plain": [
       "id              0\n",
       "qid1            0\n",
       "qid2            0\n",
       "question1       1\n",
       "question2       2\n",
       "is_duplicate    0\n",
       "dtype: int64"
      ]
     },
     "execution_count": 5,
     "metadata": {},
     "output_type": "execute_result"
    }
   ],
   "source": [
    "df.isnull().sum()"
   ]
  },
  {
   "cell_type": "code",
   "execution_count": 6,
   "id": "93042343-2bde-4954-a400-38cf3b4d01c9",
   "metadata": {},
   "outputs": [
    {
     "data": {
      "text/plain": [
       "0"
      ]
     },
     "execution_count": 6,
     "metadata": {},
     "output_type": "execute_result"
    }
   ],
   "source": [
    "df.duplicated().sum()"
   ]
  },
  {
   "cell_type": "code",
   "execution_count": 7,
   "id": "23c67c89-059b-4c86-9466-f9a3057c2711",
   "metadata": {},
   "outputs": [
    {
     "name": "stdout",
     "output_type": "stream",
     "text": [
      "is_duplicate\n",
      "0    255027\n",
      "1    149263\n",
      "Name: count, dtype: int64\n"
     ]
    }
   ],
   "source": [
    "print(df['is_duplicate'].value_counts())"
   ]
  },
  {
   "cell_type": "code",
   "execution_count": 8,
   "id": "e4b505f1-6243-4462-8716-9258eac2753e",
   "metadata": {},
   "outputs": [
    {
     "name": "stdout",
     "output_type": "stream",
     "text": [
      "is_duplicate\n",
      "0    63.080215\n",
      "1    36.919785\n",
      "Name: count, dtype: float64\n"
     ]
    }
   ],
   "source": [
    "print((df['is_duplicate'].value_counts()/df['is_duplicate'].count())*100)"
   ]
  },
  {
   "cell_type": "code",
   "execution_count": 9,
   "id": "338b3525-df80-4bc0-8805-a19a9c7615ea",
   "metadata": {},
   "outputs": [
    {
     "data": {
      "text/plain": [
       "<Axes: xlabel='is_duplicate'>"
      ]
     },
     "execution_count": 9,
     "metadata": {},
     "output_type": "execute_result"
    },
    {
     "data": {
      "image/png": "[encoded data removed]",
      "text/plain": [
       "<Figure size 640x480 with 1 Axes>"
      ]
     },
     "metadata": {},
     "output_type": "display_data"
    }
   ],
   "source": [
    "df['is_duplicate'].value_counts().plot(kind='bar')"
   ]
  },
  {
   "cell_type": "code",
   "execution_count": 11,
   "id": "f5d3eeca-9627-4465-8a1d-9b637575046b",
   "metadata": {},
   "outputs": [
    {
     "name": "stdout",
     "output_type": "stream",
     "text": [
      "Number of unique questions: 537933\n",
      "Number of questions getting repeated: 111780\n"
     ]
    }
   ],
   "source": [
    "# Repeated questions\n",
    "qid = pd.Series(df['qid1'].tolist() + df['qid2'].tolist())\n",
    "print('Number of unique questions:',np.unique(qid).shape[0])\n",
    "x = qid.value_counts()>1\n",
    "print('Number of questions getting repeated:',x[x].shape[0])"
   ]
  },
  {
   "cell_type": "code",
   "execution_count": 12,
   "id": "4cd412ee-2a1e-4862-9e4f-d26264fa7c5d",
   "metadata": {},
   "outputs": [
    {
     "data": {
      "image/png": "[encoded data removed]",
      "text/plain": [
       "<Figure size 640x480 with 1 Axes>"
      ]
     },
     "metadata": {},
     "output_type": "display_data"
    }
   ],
   "source": [
    "# Repeated questions histogram\n",
    "plt.hist(qid.value_counts().values,bins=160)\n",
    "plt.yscale('log')\n",
    "plt.show()"
   ]
  },
  {
   "cell_type": "code",
   "execution_count": null,
   "id": "273d25a2-1ded-4aae-b9d0-050a1f296fac",
   "metadata": {},
   "outputs": [],
   "source": []
  }
 ],
 "metadata": {
  "kernelspec": {
   "display_name": "Python 3 (ipykernel)",
   "language": "python",
   "name": "python3"
  },
  "language_info": {
   "codemirror_mode": {
    "name": "ipython",
    "version": 3
   },
   "file_extension": ".py",
   "mimetype": "text/x-python",
   "name": "python",
   "nbconvert_exporter": "python",
   "pygments_lexer": "ipython3",
   "version": "3.12.4"
  }
 },
 "nbformat": 4,
 "nbformat_minor": 5
}
